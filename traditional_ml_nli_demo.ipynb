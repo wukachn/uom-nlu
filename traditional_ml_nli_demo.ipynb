{
 "cells": [
  {
   "cell_type": "markdown",
   "metadata": {},
   "source": [
    "# Group 19 - NLI (A) - Traditional ML Approach (A) - Demo"
   ]
  },
  {
   "cell_type": "markdown",
   "metadata": {},
   "source": [
    "## Dependency Management"
   ]
  },
  {
   "cell_type": "code",
   "execution_count": 1,
   "metadata": {
    "id": "MxVfyiF_pzvb"
   },
   "outputs": [],
   "source": [
    "import scipy.sparse\n",
    "import pandas as pd\n",
    "from joblib import load"
   ]
  },
  {
   "cell_type": "markdown",
   "metadata": {},
   "source": [
    "## Data Preparation"
   ]
  },
  {
   "cell_type": "code",
   "execution_count": 2,
   "metadata": {},
   "outputs": [],
   "source": [
    "def build_test_data(test_data, vectorizer):\n",
    "  test_corpus = [f\"{premise} {hypothesis}\" for premise, hypothesis in zip(test_data['premise'], test_data['hypothesis'])]\n",
    "\n",
    "  tfidf_premise = vectorizer.transform(test_data['premise'].values.astype('U'))\n",
    "  tfidf_hypothesis = vectorizer.transform(test_data['hypothesis'].values.astype('U'))\n",
    "\n",
    "  test_features = scipy.sparse.hstack((tfidf_premise, tfidf_hypothesis))\n",
    "\n",
    "  return test_features"
   ]
  },
  {
   "cell_type": "code",
   "execution_count": 3,
   "metadata": {},
   "outputs": [],
   "source": [
    "def write_to_csv(pred_labels):\n",
    "  predictions_df = pd.DataFrame(pred_labels, columns=['prediction'])\n",
    "  predictions_df.to_csv('predictions/Group_19_A.csv', index=False)"
   ]
  },
  {
   "cell_type": "markdown",
   "metadata": {},
   "source": [
    "## Load Ensemble Model & TF-IDF Vectorizer\n",
    "\n",
    "Trained Models: https://drive.google.com/drive/folders/1lvrWGcUjme_sG4yvtNi0cQ4TAOil10ce?usp=sharing"
   ]
  },
  {
   "cell_type": "code",
   "execution_count": 4,
   "metadata": {},
   "outputs": [],
   "source": [
    "ensemble_model= load('models/ensemble_model.joblib')\n",
    "vectorizer = load('models/tfidf/tfidf_vectorizer.joblib')"
   ]
  },
  {
   "cell_type": "markdown",
   "metadata": {},
   "source": [
    "## Load Test Data & Make Predictions"
   ]
  },
  {
   "cell_type": "code",
   "execution_count": 5,
   "metadata": {},
   "outputs": [],
   "source": [
    "test_data = pd.read_csv(\"./data/test.csv\")"
   ]
  },
  {
   "cell_type": "code",
   "execution_count": 6,
   "metadata": {},
   "outputs": [],
   "source": [
    "test_features = build_test_data(test_data, vectorizer)\n",
    "pred_labels = ensemble_model.predict(test_features)"
   ]
  },
  {
   "cell_type": "code",
   "execution_count": 7,
   "metadata": {},
   "outputs": [],
   "source": [
    "write_to_csv(pred_labels)"
   ]
  }
 ],
 "metadata": {
  "accelerator": "TPU",
  "colab": {
   "gpuType": "V28",
   "machine_shape": "hm",
   "provenance": []
  },
  "kernelspec": {
   "display_name": "Python 3 (ipykernel)",
   "language": "python",
   "name": "python3"
  },
  "language_info": {
   "codemirror_mode": {
    "name": "ipython",
    "version": 3
   },
   "file_extension": ".py",
   "mimetype": "text/x-python",
   "name": "python",
   "nbconvert_exporter": "python",
   "pygments_lexer": "ipython3",
   "version": "3.11.5"
  }
 },
 "nbformat": 4,
 "nbformat_minor": 1
}
