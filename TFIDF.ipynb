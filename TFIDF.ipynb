{
  "nbformat": 4,
  "nbformat_minor": 0,
  "metadata": {
    "colab": {
      "provenance": []
    },
    "kernelspec": {
      "name": "python3",
      "display_name": "Python 3"
    },
    "language_info": {
      "name": "python"
    }
  },
  "cells": [
    {
      "cell_type": "code",
      "execution_count": 1,
      "metadata": {
        "id": "MxVfyiF_pzvb"
      },
      "outputs": [],
      "source": [
        "import pandas as pd\n",
        "import numpy as np\n",
        "import scipy.sparse\n",
        "from sklearn.feature_extraction.text import TfidfVectorizer\n",
        "from sklearn.linear_model import LogisticRegression"
      ]
    },
    {
      "cell_type": "code",
      "source": [
        "def train_model(train_data):\n",
        "  training_corpus = [f\"{premise} {hypothesis}\" for premise, hypothesis in zip(train_data['premise'], train_data['hypothesis'])]\n",
        "\n",
        "  vectorizer = TfidfVectorizer()\n",
        "  vectorizer.fit(training_corpus)\n",
        "\n",
        "  tfidf_premise = vectorizer.transform(train_data['premise'].values.astype('U'))\n",
        "  tfidf_hypothesis = vectorizer.transform(train_data['hypothesis'].values.astype('U'))\n",
        "\n",
        "  train_features = scipy.sparse.hstack((tfidf_premise, tfidf_hypothesis))\n",
        "  train_labels = train_data['label']\n",
        "\n",
        "  model = LogisticRegression(random_state=0, max_iter=100000, solver='lbfgs', multi_class='auto')\n",
        "  model.fit(train_features, train_labels)\n",
        "\n",
        "  print('Trained Model')\n",
        "  return model, vectorizer\n"
      ],
      "metadata": {
        "id": "Wg2_uJD-zqgl"
      },
      "execution_count": 2,
      "outputs": []
    },
    {
      "cell_type": "code",
      "source": [
        "def test_model(model, vectorizer, test_data):\n",
        "  test_corpus = [f\"{premise} {hypothesis}\" for premise, hypothesis in zip(test_data['premise'], test_data['hypothesis'])]\n",
        "\n",
        "  tfidf_premise = vectorizer.transform(test_data['premise'].values.astype('U'))\n",
        "  tfidf_hypothesis = vectorizer.transform(test_data['hypothesis'].values.astype('U'))\n",
        "\n",
        "  test_features = scipy.sparse.hstack((tfidf_premise, tfidf_hypothesis))\n",
        "  test_labels = test_data['label']\n",
        "\n",
        "  pred_labels = model.predict(test_features)\n",
        "  print(pred_labels)\n",
        "\n",
        "  score = model.score(test_features, test_labels) * 100\n",
        "  print(\"The classification accuracy for Logistic regression with TF-IDF features is {:.2f}%.\".format(score))\n",
        "\n"
      ],
      "metadata": {
        "id": "Pv4VSkm51Fnx"
      },
      "execution_count": 3,
      "outputs": []
    },
    {
      "cell_type": "code",
      "source": [
        "train_data = pd.read_csv(\"./data/train.csv\")\n",
        "dev_data = pd.read_csv(\"./data/dev.csv\")\n",
        "\n",
        "model, vectorizer = train_model(train_data)\n",
        "test_model(model, vectorizer, dev_data)\n",
        "\n"
      ],
      "metadata": {
        "colab": {
          "base_uri": "https://localhost:8080/"
        },
        "id": "u1ZitbvHqGqc",
        "outputId": "9227e6f5-ced8-49d2-d4ea-5e7802fdec2a"
      },
      "execution_count": 4,
      "outputs": [
        {
          "output_type": "stream",
          "name": "stdout",
          "text": [
            "Trained Model\n",
            "[1 0 1 ... 1 0 1]\n",
            "The classification accuracy for Logistic regression with TF-IDF features is 65.41%.\n"
          ]
        }
      ]
    }
  ]
}