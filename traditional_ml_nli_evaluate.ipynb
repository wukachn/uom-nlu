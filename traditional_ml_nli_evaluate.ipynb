{
 "cells": [
  {
   "cell_type": "markdown",
   "metadata": {},
   "source": [
    "# Group 19 - NLI (A) - Traditional ML Approach (A) - Evaluate"
   ]
  },
  {
   "cell_type": "markdown",
   "metadata": {},
   "source": [
    "## Dependency Management"
   ]
  },
  {
   "cell_type": "code",
   "execution_count": 1,
   "metadata": {
    "id": "MxVfyiF_pzvb"
   },
   "outputs": [],
   "source": [
    "import scipy.sparse\n",
    "import pandas as pd\n",
    "from sklearn.metrics import classification_report, confusion_matrix\n",
    "from sklearn.model_selection import cross_val_score\n",
    "import matplotlib.pyplot as plt\n",
    "from joblib import dump, load"
   ]
  },
  {
   "cell_type": "markdown",
   "metadata": {},
   "source": [
    "## Data Preparation"
   ]
  },
  {
   "cell_type": "code",
   "execution_count": 2,
   "metadata": {},
   "outputs": [],
   "source": [
    "def build_test_data(test_data, vectorizer):\n",
    "  test_corpus = [f\"{premise} {hypothesis}\" for premise, hypothesis in zip(test_data['premise'], test_data['hypothesis'])]\n",
    "\n",
    "  tfidf_premise = vectorizer.transform(test_data['premise'].values.astype('U'))\n",
    "  tfidf_hypothesis = vectorizer.transform(test_data['hypothesis'].values.astype('U'))\n",
    "\n",
    "  test_features = scipy.sparse.hstack((tfidf_premise, tfidf_hypothesis))\n",
    "  test_labels = test_data['label']\n",
    "\n",
    "  return test_features, test_labels"
   ]
  },
  {
   "cell_type": "markdown",
   "metadata": {},
   "source": [
    "## Load Ensemble Model & TF-IDF Vectorizer"
   ]
  },
  {
   "cell_type": "code",
   "execution_count": 3,
   "metadata": {},
   "outputs": [],
   "source": [
    "ensemble_model= load('models/ensemble_model.joblib')\n",
    "vectorizer = load('models/tfidf/tfidf_vectorizer.joblib')"
   ]
  },
  {
   "cell_type": "markdown",
   "metadata": {},
   "source": [
    "## Load Test Data & Make Predictions"
   ]
  },
  {
   "cell_type": "code",
   "execution_count": 4,
   "metadata": {},
   "outputs": [],
   "source": [
    "dev_data = pd.read_csv(\"./data/dev.csv\")"
   ]
  },
  {
   "cell_type": "code",
   "execution_count": 5,
   "metadata": {},
   "outputs": [],
   "source": [
    "test_features, test_labels = build_test_data(dev_data, vectorizer)\n",
    "pred_labels = ensemble_model.predict(test_features)"
   ]
  },
  {
   "cell_type": "markdown",
   "metadata": {},
   "source": [
    "## Classification Metrics"
   ]
  },
  {
   "cell_type": "code",
   "execution_count": 6,
   "metadata": {},
   "outputs": [
    {
     "name": "stdout",
     "output_type": "stream",
     "text": [
      "          Predicted 0  Predicted 1\n",
      "Actual 0         1819         1440\n",
      "Actual 1          760         2718\n"
     ]
    }
   ],
   "source": [
    "cm = pd.DataFrame(confusion_matrix(test_labels, pred_labels), \n",
    "                         index=['Actual 0', 'Actual 1'], columns=['Predicted 0', 'Predicted 1'])\n",
    "print(cm)"
   ]
  },
  {
   "cell_type": "code",
   "execution_count": 7,
   "metadata": {},
   "outputs": [
    {
     "name": "stdout",
     "output_type": "stream",
     "text": [
      "              precision    recall  f1-score   support\n",
      "\n",
      "           0       0.71      0.56      0.62      3259\n",
      "           1       0.65      0.78      0.71      3478\n",
      "\n",
      "    accuracy                           0.67      6737\n",
      "   macro avg       0.68      0.67      0.67      6737\n",
      "weighted avg       0.68      0.67      0.67      6737\n",
      "\n"
     ]
    }
   ],
   "source": [
    "print(classification_report(test_labels, pred_labels))"
   ]
  },
  {
   "cell_type": "code",
   "execution_count": 8,
   "metadata": {},
   "outputs": [
    {
     "name": "stdout",
     "output_type": "stream",
     "text": [
      "Mean Accuracy: 65.00%\n"
     ]
    }
   ],
   "source": [
    "scores = cross_val_score(ensemble_model, test_features, test_labels, cv=5)\n",
    "print(\"Mean Accuracy: {:.2f}%\".format(scores.mean() * 100))"
   ]
  }
 ],
 "metadata": {
  "accelerator": "TPU",
  "colab": {
   "gpuType": "V28",
   "machine_shape": "hm",
   "provenance": []
  },
  "kernelspec": {
   "display_name": "Python 3 (ipykernel)",
   "language": "python",
   "name": "python3"
  },
  "language_info": {
   "codemirror_mode": {
    "name": "ipython",
    "version": 3
   },
   "file_extension": ".py",
   "mimetype": "text/x-python",
   "name": "python",
   "nbconvert_exporter": "python",
   "pygments_lexer": "ipython3",
   "version": "3.11.5"
  }
 },
 "nbformat": 4,
 "nbformat_minor": 1
}
